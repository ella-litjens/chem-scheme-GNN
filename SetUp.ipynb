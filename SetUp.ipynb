{
  "nbformat": 4,
  "nbformat_minor": 0,
  "metadata": {
    "colab": {
      "provenance": [],
      "authorship_tag": "ABX9TyMw8N+z6uZYEmuzPOEAhEqK",
      "include_colab_link": true
    },
    "kernelspec": {
      "name": "python3",
      "display_name": "Python 3"
    },
    "language_info": {
      "name": "python"
    }
  },
  "cells": [
    {
      "cell_type": "markdown",
      "metadata": {
        "id": "view-in-github",
        "colab_type": "text"
      },
      "source": [
        "<a href=\"https://colab.research.google.com/github/ella-litjens/chem-scheme-GNN/blob/main/SetUp.ipynb\" target=\"_parent\"><img src=\"https://colab.research.google.com/assets/colab-badge.svg\" alt=\"Open In Colab\"/></a>"
      ]
    },
    {
      "cell_type": "code",
      "execution_count": null,
      "metadata": {
        "colab": {
          "base_uri": "https://localhost:8080/"
        },
        "id": "Yx8wKJ7WdrrM",
        "outputId": "9b7d37c4-598d-423f-88f9-62f4d633fd24"
      },
      "outputs": [
        {
          "output_type": "stream",
          "name": "stdout",
          "text": [
            "Drive already mounted at /content/drive; to attempt to forcibly remount, call drive.mount(\"/content/drive\", force_remount=True).\n"
          ]
        }
      ],
      "source": [
        "import os\n",
        "from google.colab import drive\n",
        "drive.mount('/content/drive')\n",
        "project_dir = '/content/drive/MyDrive/chem-scheme-GNN'\n",
        "\n",
        "# Check if repository directory already exists to avoid re-clone\n",
        "if not os.path.exists(project_dir):\n",
        "    %cd /content/drive/MyDrive\n",
        "    !git clone https://github.com/yourusername/chem-scheme-GNN.git\n",
        "else:\n",
        "    %cd $project_dir"
      ]
    },
    {
      "cell_type": "code",
      "source": [
        "!git config --global user.name \"ella-litjens\"\n",
        "!git config --global user.email \"ella.litjens@outlook.com\"\n"
      ],
      "metadata": {
        "id": "DMWFaGwamVF1"
      },
      "execution_count": null,
      "outputs": []
    },
    {
      "cell_type": "code",
      "source": [
        "!git add SetUp.py\n",
        "!git commit -m \"Add setup file\"\n"
      ],
      "metadata": {
        "colab": {
          "base_uri": "https://localhost:8080/"
        },
        "id": "HZBVOiErllDm",
        "outputId": "087812f2-ad33-4fe0-dc49-681cf043823e"
      },
      "execution_count": null,
      "outputs": [
        {
          "output_type": "stream",
          "name": "stdout",
          "text": [
            "[main 4a6d75b] Add setup file\n",
            " 1 file changed, 1 insertion(+)\n",
            " create mode 100644 SetUp.py\n"
          ]
        }
      ]
    },
    {
      "cell_type": "code",
      "source": [
        "!git push origin main\n"
      ],
      "metadata": {
        "colab": {
          "base_uri": "https://localhost:8080/"
        },
        "id": "CJZigYf6l5Qt",
        "outputId": "0a76bcc4-6ca0-4b78-8a01-cf3ebae96c3b"
      },
      "execution_count": null,
      "outputs": [
        {
          "output_type": "stream",
          "name": "stdout",
          "text": [
            "fatal: could not read Username for 'https://github.com': No such device or address\n"
          ]
        }
      ]
    },
    {
      "cell_type": "code",
      "source": [
        "!git remote -v\n"
      ],
      "metadata": {
        "id": "1h47J-cnnOv-",
        "outputId": "2c06f1a3-2be8-4657-c278-1f0106ad1e25",
        "colab": {
          "base_uri": "https://localhost:8080/"
        }
      },
      "execution_count": null,
      "outputs": [
        {
          "output_type": "stream",
          "name": "stdout",
          "text": [
            "origin\thttps://github.com/ella-litjens/chem-scheme-GNN.git (fetch)\n",
            "origin\thttps://github.com/ella-litjens/chem-scheme-GNN.git (push)\n"
          ]
        }
      ]
    },
    {
      "cell_type": "code",
      "source": [],
      "metadata": {
        "id": "SunuHC90nPW9"
      },
      "execution_count": null,
      "outputs": []
    }
  ]
}